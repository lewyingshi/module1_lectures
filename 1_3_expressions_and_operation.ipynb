{
  "nbformat": 4,
  "nbformat_minor": 0,
  "metadata": {
    "anaconda-cloud": {},
    "celltoolbar": "Slideshow",
    "kernelspec": {
      "display_name": "Python 3",
      "language": "python",
      "name": "python3"
    },
    "language_info": {
      "codemirror_mode": {
        "name": "ipython",
        "version": 3
      },
      "file_extension": ".py",
      "mimetype": "text/x-python",
      "name": "python",
      "nbconvert_exporter": "python",
      "pygments_lexer": "ipython3",
      "version": "3.7.2"
    },
    "nbpresent": {
      "slides": {
        "d8cfa8b7-18e5-4d2f-8e92-8164c8bfad3b": {
          "id": "d8cfa8b7-18e5-4d2f-8e92-8164c8bfad3b",
          "prev": null,
          "regions": {
            "81231d63-4899-45f2-b382-fabf4f762896": {
              "attrs": {
                "height": 0.8,
                "width": 0.45,
                "x": 0.5,
                "y": 0.1
              },
              "id": "81231d63-4899-45f2-b382-fabf4f762896"
            },
            "b40d103d-8d7f-44de-8fca-19b2f9861cdd": {
              "attrs": {
                "height": 0.8,
                "width": 0.45,
                "x": 0.05,
                "y": 0.1
              },
              "id": "b40d103d-8d7f-44de-8fca-19b2f9861cdd"
            }
          }
        }
      },
      "themes": {}
    },
    "colab": {
      "name": "1_3_expressions_and_operation.ipynb",
      "provenance": [],
      "include_colab_link": true
    }
  },
  "cells": [
    {
      "cell_type": "markdown",
      "metadata": {
        "id": "view-in-github",
        "colab_type": "text"
      },
      "source": [
        "<a href=\"https://colab.research.google.com/github/lewyingshi/module1_lectures/blob/master/1_3_expressions_and_operation.ipynb\" target=\"_parent\"><img src=\"https://colab.research.google.com/assets/colab-badge.svg\" alt=\"Open In Colab\"/></a>"
      ]
    },
    {
      "cell_type": "markdown",
      "metadata": {
        "nbpresent": {
          "id": "72b0ede6-af2b-41e9-81af-16c345e658d3"
        },
        "id": "KZGQfR8R15wu",
        "colab_type": "text"
      },
      "source": [
        "# Expressions and Functions\n",
        "\n",
        "## Objectives\n",
        "\n",
        "1. Introduce basic Python expressions for transforming data\n",
        "    1. Arithmetic\n",
        "    2. Boolean\n",
        "2. Use the conditional expression for situational expressions"
      ]
    },
    {
      "cell_type": "markdown",
      "metadata": {
        "nbpresent": {
          "id": "d6ce38da-dd5e-49ae-96d9-a13b7c588c7f"
        },
        "id": "5DPMPuBP15wy",
        "colab_type": "text"
      },
      "source": [
        "## Expressions and Statements\n",
        "\n",
        "* Two types of Python code\n",
        "* **statements** \"Do this\"\n",
        "    * Does not return/evaluate to a value\n",
        "    * Often contain expressions\n",
        "* **expressions** \"Compute this value\"\n",
        "    * Allows returns data\n",
        "* I prefer expressions"
      ]
    },
    {
      "cell_type": "code",
      "metadata": {
        "nbpresent": {
          "id": "3394c082-f660-4228-8b52-a46f2e9c02de"
        },
        "id": "Uj-4Oj_U15w1",
        "colab_type": "code",
        "colab": {
          "base_uri": "https://localhost:8080/",
          "height": 34
        },
        "outputId": "66bfbe2a-9698-45df-92b2-995f16d78f79"
      },
      "source": [
        "sum([1,2,3]) # expression (returns 6)"
      ],
      "execution_count": 13,
      "outputs": [
        {
          "output_type": "execute_result",
          "data": {
            "text/plain": [
              "6"
            ]
          },
          "metadata": {
            "tags": []
          },
          "execution_count": 13
        }
      ]
    },
    {
      "cell_type": "code",
      "metadata": {
        "nbpresent": {
          "id": "348801b9-66cf-4248-81c6-32b52ca127e8"
        },
        "id": "X-dQv_Fq15xB",
        "colab_type": "code",
        "colab": {}
      },
      "source": [
        "x = sum([1,2,3]) # assignment statement (no value)"
      ],
      "execution_count": 14,
      "outputs": []
    },
    {
      "cell_type": "code",
      "metadata": {
        "nbpresent": {
          "id": "5b62bd9c-ca01-40c1-9913-e2c73f9188f6"
        },
        "id": "Qb8LdGQm15yB",
        "colab_type": "code",
        "colab": {
          "base_uri": "https://localhost:8080/",
          "height": 34
        },
        "outputId": "e9d0b2d1-4d86-4a06-f199-a565d47e486c"
      },
      "source": [
        "x # Expression (returns value assigned to x)"
      ],
      "execution_count": 15,
      "outputs": [
        {
          "output_type": "execute_result",
          "data": {
            "text/plain": [
              "6"
            ]
          },
          "metadata": {
            "tags": []
          },
          "execution_count": 15
        }
      ]
    },
    {
      "cell_type": "markdown",
      "metadata": {
        "nbpresent": {
          "id": "277549e7-ddfe-439c-b7dc-4e257ff97426"
        },
        "id": "umlKkGq115yI",
        "colab_type": "text"
      },
      "source": [
        "## Arithmetic operations"
      ]
    },
    {
      "cell_type": "code",
      "metadata": {
        "nbpresent": {
          "id": "de77acd8-a6ab-4026-9378-05a77c73ed46"
        },
        "id": "6Kenojsb15yJ",
        "colab_type": "code",
        "colab": {
          "base_uri": "https://localhost:8080/",
          "height": 34
        },
        "outputId": "c9507f85-5c64-4f93-e27b-765f5c31cea0"
      },
      "source": [
        "2 + 3.5"
      ],
      "execution_count": 16,
      "outputs": [
        {
          "output_type": "execute_result",
          "data": {
            "text/plain": [
              "5.5"
            ]
          },
          "metadata": {
            "tags": []
          },
          "execution_count": 16
        }
      ]
    },
    {
      "cell_type": "code",
      "metadata": {
        "nbpresent": {
          "id": "9b572828-abc5-4f12-9f11-d444f1488019"
        },
        "id": "_vlDEYn015yR",
        "colab_type": "code",
        "colab": {
          "base_uri": "https://localhost:8080/",
          "height": 34
        },
        "outputId": "e92148df-67f8-4b62-c480-220b8e19c193"
      },
      "source": [
        "2 - 3.5 "
      ],
      "execution_count": 17,
      "outputs": [
        {
          "output_type": "execute_result",
          "data": {
            "text/plain": [
              "-1.5"
            ]
          },
          "metadata": {
            "tags": []
          },
          "execution_count": 17
        }
      ]
    },
    {
      "cell_type": "code",
      "metadata": {
        "nbpresent": {
          "id": "f14f2894-1b57-4dec-8eaf-72364fb0ec22"
        },
        "id": "3Jh-itT_15yW",
        "colab_type": "code",
        "colab": {
          "base_uri": "https://localhost:8080/",
          "height": 34
        },
        "outputId": "83538c5d-1717-457c-c4f2-337b8cba569a"
      },
      "source": [
        "2*3.5"
      ],
      "execution_count": 18,
      "outputs": [
        {
          "output_type": "execute_result",
          "data": {
            "text/plain": [
              "7.0"
            ]
          },
          "metadata": {
            "tags": []
          },
          "execution_count": 18
        }
      ]
    },
    {
      "cell_type": "code",
      "metadata": {
        "nbpresent": {
          "id": "0283e446-51ff-49c6-95c1-7df0331373e8"
        },
        "id": "UxRSebKV15ya",
        "colab_type": "code",
        "colab": {
          "base_uri": "https://localhost:8080/",
          "height": 34
        },
        "outputId": "8a5860ad-2de2-45d8-899d-464681d14c09"
      },
      "source": [
        "2/3 # True division"
      ],
      "execution_count": 19,
      "outputs": [
        {
          "output_type": "execute_result",
          "data": {
            "text/plain": [
              "0.6666666666666666"
            ]
          },
          "metadata": {
            "tags": []
          },
          "execution_count": 19
        }
      ]
    },
    {
      "cell_type": "code",
      "metadata": {
        "nbpresent": {
          "id": "1cbfb777-d4fa-4364-8b4d-7316398849d2"
        },
        "id": "UFyiO5Sp15yg",
        "colab_type": "code",
        "colab": {
          "base_uri": "https://localhost:8080/",
          "height": 34
        },
        "outputId": "2c1239f7-8f98-48e0-9aa2-8dfb419d4f1d"
      },
      "source": [
        "10//3 # Integeer division"
      ],
      "execution_count": 20,
      "outputs": [
        {
          "output_type": "execute_result",
          "data": {
            "text/plain": [
              "3"
            ]
          },
          "metadata": {
            "tags": []
          },
          "execution_count": 20
        }
      ]
    },
    {
      "cell_type": "code",
      "metadata": {
        "nbpresent": {
          "id": "5eb71879-541d-4d2f-8d0b-03b1936784be"
        },
        "id": "-dDhSS8Z15yn",
        "colab_type": "code",
        "colab": {
          "base_uri": "https://localhost:8080/",
          "height": 34
        },
        "outputId": "514ba289-4630-40fc-e1c3-cce4ef0fe9bc"
      },
      "source": [
        "10 % 3 # Mod/remainder"
      ],
      "execution_count": 21,
      "outputs": [
        {
          "output_type": "execute_result",
          "data": {
            "text/plain": [
              "1"
            ]
          },
          "metadata": {
            "tags": []
          },
          "execution_count": 21
        }
      ]
    },
    {
      "cell_type": "markdown",
      "metadata": {
        "id": "rCl7faOE15yu",
        "colab_type": "text"
      },
      "source": [
        "<font color=\"red\"><h2>Exercise</h2></font>\n",
        "\n",
        "The hour hand is pointing at 8, what will it point to in 57 hours?"
      ]
    },
    {
      "cell_type": "code",
      "metadata": {
        "id": "e2o6fhe8qzL6",
        "colab_type": "code",
        "colab": {
          "base_uri": "https://localhost:8080/",
          "height": 34
        },
        "outputId": "26a62a30-af72-416c-d5d8-5e73fbe37be3"
      },
      "source": [
        ""
      ],
      "execution_count": 58,
      "outputs": [
        {
          "output_type": "execute_result",
          "data": {
            "text/plain": [
              "12"
            ]
          },
          "metadata": {
            "tags": []
          },
          "execution_count": 58
        }
      ]
    },
    {
      "cell_type": "code",
      "metadata": {
        "id": "r6VCL0GF15yw",
        "colab_type": "code",
        "colab": {
          "base_uri": "https://localhost:8080/",
          "height": 34
        },
        "outputId": "352c9598-4d90-47f2-ae5b-f9b68bb344d1"
      },
      "source": [
        "57 - 48 + 8 - 12"
      ],
      "execution_count": 43,
      "outputs": [
        {
          "output_type": "execute_result",
          "data": {
            "text/plain": [
              "5"
            ]
          },
          "metadata": {
            "tags": []
          },
          "execution_count": 43
        }
      ]
    },
    {
      "cell_type": "code",
      "metadata": {
        "nbpresent": {
          "id": "d2f5f5a1-1f01-4036-8bdb-c9dd4f3a6999"
        },
        "id": "jGAF2hok15y3",
        "colab_type": "code",
        "colab": {
          "base_uri": "https://localhost:8080/",
          "height": 34
        },
        "outputId": "c2c3d5e1-26b6-473e-d772-f3c5f1b6154a"
      },
      "source": [
        "2 ** 3 # Powers!"
      ],
      "execution_count": 23,
      "outputs": [
        {
          "output_type": "execute_result",
          "data": {
            "text/plain": [
              "8"
            ]
          },
          "metadata": {
            "tags": []
          },
          "execution_count": 23
        }
      ]
    },
    {
      "cell_type": "code",
      "metadata": {
        "nbpresent": {
          "id": "f79150cf-6794-48bb-b703-eb963b40cc06"
        },
        "id": "_kheSVcn15zE",
        "colab_type": "code",
        "colab": {
          "base_uri": "https://localhost:8080/",
          "height": 34
        },
        "outputId": "bc37f27e-8ea5-41ea-ef34-88f9ac73422d"
      },
      "source": [
        "2 ^ 3 # BEWARE: bitwise exclusive or"
      ],
      "execution_count": 24,
      "outputs": [
        {
          "output_type": "execute_result",
          "data": {
            "text/plain": [
              "1"
            ]
          },
          "metadata": {
            "tags": []
          },
          "execution_count": 24
        }
      ]
    },
    {
      "cell_type": "markdown",
      "metadata": {
        "nbpresent": {
          "id": "a9702cc1-1da0-4d6b-8198-835ac55fd9eb"
        },
        "id": "3YDeFu7t15zH",
        "colab_type": "text"
      },
      "source": [
        "### <font color=\"red\"> Exercise 1</font>\n",
        "Investigate which operations can be applied to two strings, say `\"a\"` and `\"b\"`.\n"
      ]
    },
    {
      "cell_type": "code",
      "metadata": {
        "nbpresent": {
          "id": "78a2f194-f4ff-466a-8921-7012b6d551b0"
        },
        "id": "CSq1TdiS15zH",
        "colab_type": "code",
        "colab": {
          "base_uri": "https://localhost:8080/",
          "height": 35
        },
        "outputId": "be38d1fe-09f2-43ea-c507-8c68839348fa"
      },
      "source": [
        "string1 = \"a\"\n",
        "string2 = \"b\"\n",
        "string1 \n",
        "string2\n",
        "\n",
        "string1 + string2 # can"
      ],
      "execution_count": 67,
      "outputs": [
        {
          "output_type": "execute_result",
          "data": {
            "application/vnd.google.colaboratory.intrinsic+json": {
              "type": "string"
            },
            "text/plain": [
              "'ab'"
            ]
          },
          "metadata": {
            "tags": []
          },
          "execution_count": 67
        }
      ]
    },
    {
      "cell_type": "markdown",
      "metadata": {
        "nbpresent": {
          "id": "2812ca09-3cd1-43c1-aefd-05fbea612c57"
        },
        "id": "IZn58miY15zN",
        "colab_type": "text"
      },
      "source": [
        "### <font color=\"red\"> Exercise 2 </font>\n",
        "\n",
        "Investigate various operations on `2` and `\"a\"`"
      ]
    },
    {
      "cell_type": "code",
      "metadata": {
        "nbpresent": {
          "id": "c5667754-7de7-401f-989b-88c209c6ea82"
        },
        "id": "kp-OG9QK15zO",
        "colab_type": "code",
        "colab": {
          "base_uri": "https://localhost:8080/",
          "height": 35
        },
        "outputId": "1ca239e1-2479-4198-9c35-e7692e524d61"
      },
      "source": [
        "2 * string1"
      ],
      "execution_count": 76,
      "outputs": [
        {
          "output_type": "execute_result",
          "data": {
            "application/vnd.google.colaboratory.intrinsic+json": {
              "type": "string"
            },
            "text/plain": [
              "'aa'"
            ]
          },
          "metadata": {
            "tags": []
          },
          "execution_count": 76
        }
      ]
    },
    {
      "cell_type": "markdown",
      "metadata": {
        "nbpresent": {
          "id": "451809fa-bae8-406f-8485-e14666da2f9c"
        },
        "id": "XDoB46i015zT",
        "colab_type": "text"
      },
      "source": [
        "## Boolean operations\n",
        "\n",
        "- **Boolean expressions** evaluate to True or False\n",
        "- **Boolean operations** answer Yes/No questions"
      ]
    },
    {
      "cell_type": "markdown",
      "metadata": {
        "nbpresent": {
          "id": "a7d93c7f-e613-436d-8ea2-f8eabf37aca1"
        },
        "id": "EzPtcvwz15zU",
        "colab_type": "text"
      },
      "source": [
        "## Comparison operators"
      ]
    },
    {
      "cell_type": "code",
      "metadata": {
        "nbpresent": {
          "id": "9ba65652-2b58-4adc-bb1b-ca556743e198"
        },
        "id": "_FfzValg15zV",
        "colab_type": "code",
        "colab": {
          "base_uri": "https://localhost:8080/",
          "height": 34
        },
        "outputId": "5b38ddda-8b47-44ad-880f-81e238aac891"
      },
      "source": [
        "(2 == 3, 2 < 3, 2 <= 3, 2 != 3)"
      ],
      "execution_count": 27,
      "outputs": [
        {
          "output_type": "execute_result",
          "data": {
            "text/plain": [
              "(False, True, True, True)"
            ]
          },
          "metadata": {
            "tags": []
          },
          "execution_count": 27
        }
      ]
    },
    {
      "cell_type": "markdown",
      "metadata": {
        "nbpresent": {
          "id": "f2db4d92-a6dc-4ce4-973b-623addee60f5"
        },
        "id": "r0QCjwfP15zY",
        "colab_type": "text"
      },
      "source": [
        "## Container operations"
      ]
    },
    {
      "cell_type": "code",
      "metadata": {
        "nbpresent": {
          "id": "cc07079e-46cf-4b24-8240-0c8f356cf384"
        },
        "id": "uioyUrjq15zZ",
        "colab_type": "code",
        "colab": {
          "base_uri": "https://localhost:8080/",
          "height": 34
        },
        "outputId": "13eb688f-a8a2-4153-f0b1-a4bb7e3cf78c"
      },
      "source": [
        "2 in [1,2,3]"
      ],
      "execution_count": 28,
      "outputs": [
        {
          "output_type": "execute_result",
          "data": {
            "text/plain": [
              "True"
            ]
          },
          "metadata": {
            "tags": []
          },
          "execution_count": 28
        }
      ]
    },
    {
      "cell_type": "code",
      "metadata": {
        "nbpresent": {
          "id": "98dc4cf4-0de9-45ac-8056-a6bb98506321"
        },
        "id": "-VjQqd-i15zd",
        "colab_type": "code",
        "colab": {
          "base_uri": "https://localhost:8080/",
          "height": 34
        },
        "outputId": "103660d8-763c-4d51-beea-b6258e23584f"
      },
      "source": [
        "\"a\" in \"Todd\""
      ],
      "execution_count": 29,
      "outputs": [
        {
          "output_type": "execute_result",
          "data": {
            "text/plain": [
              "False"
            ]
          },
          "metadata": {
            "tags": []
          },
          "execution_count": 29
        }
      ]
    },
    {
      "cell_type": "code",
      "metadata": {
        "nbpresent": {
          "id": "de82634e-c310-4316-8db0-1bef201414b6"
        },
        "id": "gHxPZqg215zg",
        "colab_type": "code",
        "colab": {
          "base_uri": "https://localhost:8080/",
          "height": 34
        },
        "outputId": "182aabe6-b0f6-40e4-9932-bc1c236e19b4"
      },
      "source": [
        "\"t\" not in \"Todd\""
      ],
      "execution_count": 30,
      "outputs": [
        {
          "output_type": "execute_result",
          "data": {
            "text/plain": [
              "True"
            ]
          },
          "metadata": {
            "tags": []
          },
          "execution_count": 30
        }
      ]
    },
    {
      "cell_type": "code",
      "metadata": {
        "nbpresent": {
          "id": "b23fc6af-c8e8-4f21-bfc3-64448f3d209d"
        },
        "scrolled": true,
        "id": "5SNbk84f15zj",
        "colab_type": "code",
        "colab": {
          "base_uri": "https://localhost:8080/",
          "height": 34
        },
        "outputId": "79b9b22e-bdbc-455a-9a86-ea6bc75f6436"
      },
      "source": [
        "2 in [1, [2, 3]]"
      ],
      "execution_count": 31,
      "outputs": [
        {
          "output_type": "execute_result",
          "data": {
            "text/plain": [
              "False"
            ]
          },
          "metadata": {
            "tags": []
          },
          "execution_count": 31
        }
      ]
    },
    {
      "cell_type": "markdown",
      "metadata": {
        "nbpresent": {
          "id": "a9702cc1-1da0-4d6b-8198-835ac55fd9eb"
        },
        "id": "bJBPl06K15zn",
        "colab_type": "text"
      },
      "source": [
        "### <font color=\"red\"> Exercise 3</font>\n",
        "\n",
        "Why does `2 in [1, [2, 3]]` to `False`?\n"
      ]
    },
    {
      "cell_type": "markdown",
      "metadata": {
        "id": "9x9ygaeV15zo",
        "colab_type": "text"
      },
      "source": [
        "Because 2 is not in the main set, rather, it is in a subset of the main set."
      ]
    },
    {
      "cell_type": "markdown",
      "metadata": {
        "nbpresent": {
          "id": "8fb5d98c-6b7c-4ffb-8c28-ac5f7a055f1a"
        },
        "id": "5rUlDo3p15zo",
        "colab_type": "text"
      },
      "source": [
        "## Combining boolean expressions\n",
        "\n",
        "- Use `and`, `or`, and `not`"
      ]
    },
    {
      "cell_type": "code",
      "metadata": {
        "nbpresent": {
          "id": "5b47746d-6823-4b18-bd0a-e87df90e01e7"
        },
        "id": "XfLhjhi015zp",
        "colab_type": "code",
        "colab": {
          "base_uri": "https://localhost:8080/",
          "height": 34
        },
        "outputId": "169ead35-e34f-40ec-fc49-875807f66eff"
      },
      "source": [
        "x, name = 5, \"Todd\"\n",
        "x % 2 == 1 and \"a\" in \"Todd\""
      ],
      "execution_count": 32,
      "outputs": [
        {
          "output_type": "execute_result",
          "data": {
            "text/plain": [
              "False"
            ]
          },
          "metadata": {
            "tags": []
          },
          "execution_count": 32
        }
      ]
    },
    {
      "cell_type": "code",
      "metadata": {
        "nbpresent": {
          "id": "298c54dc-9124-4201-beef-67b6d98b4633"
        },
        "id": "lgfuuzwl15zu",
        "colab_type": "code",
        "colab": {
          "base_uri": "https://localhost:8080/",
          "height": 34
        },
        "outputId": "593e5753-2ce7-45bc-dfc3-71f9be87bf21"
      },
      "source": [
        "x % 2 == 1 or \"a\" in \"Todd\""
      ],
      "execution_count": 33,
      "outputs": [
        {
          "output_type": "execute_result",
          "data": {
            "text/plain": [
              "True"
            ]
          },
          "metadata": {
            "tags": []
          },
          "execution_count": 33
        }
      ]
    },
    {
      "cell_type": "code",
      "metadata": {
        "nbpresent": {
          "id": "ae43d805-5f59-4823-bbde-cb86bae63461"
        },
        "id": "xHgyNR7415z3",
        "colab_type": "code",
        "colab": {
          "base_uri": "https://localhost:8080/",
          "height": 34
        },
        "outputId": "9eabb2bd-22f7-443b-dda1-f888c7eeff23"
      },
      "source": [
        "not 2 < 3"
      ],
      "execution_count": 34,
      "outputs": [
        {
          "output_type": "execute_result",
          "data": {
            "text/plain": [
              "False"
            ]
          },
          "metadata": {
            "tags": []
          },
          "execution_count": 34
        }
      ]
    },
    {
      "cell_type": "markdown",
      "metadata": {
        "id": "mKA4eLFo15z7",
        "colab_type": "text"
      },
      "source": [
        "## Conditional Expression\n",
        "\n",
        "* Syntax:"
      ]
    },
    {
      "cell_type": "code",
      "metadata": {
        "id": "j3fBt9mG15z8",
        "colab_type": "code",
        "colab": {
          "base_uri": "https://localhost:8080/",
          "height": 164
        },
        "outputId": "83e9709c-960e-41ef-e477-b88f882c94d9"
      },
      "source": [
        "true_val if boolean_condition else false_value"
      ],
      "execution_count": 77,
      "outputs": [
        {
          "output_type": "error",
          "ename": "NameError",
          "evalue": "ignored",
          "traceback": [
            "\u001b[0;31m---------------------------------------------------------------------------\u001b[0m",
            "\u001b[0;31mNameError\u001b[0m                                 Traceback (most recent call last)",
            "\u001b[0;32m<ipython-input-77-3ae810e1a1d8>\u001b[0m in \u001b[0;36m<module>\u001b[0;34m()\u001b[0m\n\u001b[0;32m----> 1\u001b[0;31m \u001b[0mtrue_val\u001b[0m \u001b[0;32mif\u001b[0m \u001b[0mboolean_condition\u001b[0m \u001b[0;32melse\u001b[0m \u001b[0mfalse_value\u001b[0m\u001b[0;34m\u001b[0m\u001b[0;34m\u001b[0m\u001b[0m\n\u001b[0m",
            "\u001b[0;31mNameError\u001b[0m: name 'boolean_condition' is not defined"
          ]
        }
      ]
    },
    {
      "cell_type": "code",
      "metadata": {
        "id": "EmDau1kj150A",
        "colab_type": "code",
        "colab": {
          "base_uri": "https://localhost:8080/",
          "height": 35
        },
        "outputId": "eba8f1c2-1ce5-44ce-ed34-9242e30e7733"
      },
      "source": [
        "\"Has t\" if \"t\" in \"Todd\" else \"No t\""
      ],
      "execution_count": 78,
      "outputs": [
        {
          "output_type": "execute_result",
          "data": {
            "application/vnd.google.colaboratory.intrinsic+json": {
              "type": "string"
            },
            "text/plain": [
              "'No t'"
            ]
          },
          "metadata": {
            "tags": []
          },
          "execution_count": 78
        }
      ]
    },
    {
      "cell_type": "markdown",
      "metadata": {
        "id": "TI59iY3R150G",
        "colab_type": "text"
      },
      "source": [
        "## Evaluating the conditional expression\n",
        "\n",
        "<img src=\"https://github.com/lewyingshi/module1_lectures/blob/master/img/cond_expr_1.png?raw=1\" width=400 />"
      ]
    },
    {
      "cell_type": "markdown",
      "metadata": {
        "nbpresent": {
          "id": "a9702cc1-1da0-4d6b-8198-835ac55fd9eb"
        },
        "id": "VaPa4Udx150H",
        "colab_type": "text"
      },
      "source": [
        "### <font color=\"red\"> Exercise 4</font>\n",
        "\n",
        "Evaluate `\"Yes\" if (5 <= x < 10) and (x % 2 == 1) else \"No\"`\n",
        "\n",
        "1. By hand\n",
        "2. With Python\n"
      ]
    },
    {
      "cell_type": "markdown",
      "metadata": {
        "id": "L65JEIjR150H",
        "colab_type": "text"
      },
      "source": [
        "1. Evaluate by hand: \n",
        "In order for it to evaluate to \"Yes\", the value of x has to be greater or equal to 5 and less than 10. In addition, the value of x has to also equal to 1 when it has a divisor of 2. Else, if x does not meet the requirements, it will be evaluated to \"No\".\n"
      ]
    },
    {
      "cell_type": "code",
      "metadata": {
        "id": "dz3eGHlL150L",
        "colab_type": "code",
        "colab": {
          "base_uri": "https://localhost:8080/",
          "height": 35
        },
        "outputId": "46bcd621-86bc-49a4-ac1b-734784e6e335"
      },
      "source": [
        "# Evaluate with Python\n",
        "x = 5\n",
        "\"Yes\" if (5 <= x < 10) and (x % 2 == 1) else \"No\""
      ],
      "execution_count": 85,
      "outputs": [
        {
          "output_type": "execute_result",
          "data": {
            "application/vnd.google.colaboratory.intrinsic+json": {
              "type": "string"
            },
            "text/plain": [
              "'Yes'"
            ]
          },
          "metadata": {
            "tags": []
          },
          "execution_count": 85
        }
      ]
    },
    {
      "cell_type": "code",
      "metadata": {
        "id": "lWrTRPGI150R",
        "colab_type": "code",
        "colab": {
          "base_uri": "https://localhost:8080/",
          "height": 34
        },
        "outputId": "7fa14b51-e570-4a00-da23-d74cf77fb64a"
      },
      "source": [
        "x % 2 "
      ],
      "execution_count": 86,
      "outputs": [
        {
          "output_type": "execute_result",
          "data": {
            "text/plain": [
              "1"
            ]
          },
          "metadata": {
            "tags": []
          },
          "execution_count": 86
        }
      ]
    },
    {
      "cell_type": "code",
      "metadata": {
        "id": "UvyqhT6T150e",
        "colab_type": "code",
        "colab": {}
      },
      "source": [
        ""
      ],
      "execution_count": null,
      "outputs": []
    }
  ]
}